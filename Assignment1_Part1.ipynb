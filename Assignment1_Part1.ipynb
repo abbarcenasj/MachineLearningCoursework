{
 "cells": [
  {
   "cell_type": "markdown",
   "metadata": {},
   "source": [
    "# Assignment 1 - Probability, Linear Algebra, Programming, and Git\n",
    "\n",
    "## *Ana Belen Barcenas Jimenez*\n",
    "Netid:  *ab713*"
   ]
  },
  {
   "cell_type": "markdown",
   "metadata": {},
   "source": [
    "# Probability and Statistics Theory"
   ]
  },
  {
   "cell_type": "markdown",
   "metadata": {
    "collapsed": true
   },
   "source": [
    "## 1\n",
    "Let $f(x) = \\begin{cases}\n",
    "                0           & x < 0  \\\\\n",
    "                \\alpha x^2  & 0 \\leq x \\leq 2 \\\\\n",
    "                0           & 2 < x\n",
    "            \\end{cases}$\n",
    "            \n",
    "For what value of $\\alpha$ is $f(x)$ a valid probability density function?\n",
    "\n",
    "*Note: for all assignments, write out all equations and math for all assignments using markdown and [LaTeX](https://tobi.oetiker.ch/lshort/lshort.pdf) and show all work*"
   ]
  },
  {
   "cell_type": "markdown",
   "metadata": {},
   "source": [
    "## **ANSWER**\n",
    "\n",
    "$$\\int_{0}^{2} \\alpha x^2 dx = \\Bigg[ \\alpha \\frac{x^3}{3}\\Bigg]_0^2 = \\Bigg( \\alpha \\frac{2^3}{3}\\Bigg) - \\Bigg( \\alpha\\frac{0^3}{3}\\Bigg) = \\Big(\\alpha\\frac{8}{3}\\Big)$$\n",
    "\n",
    "For $f(x)$ to be a valid probability density function, $\\big(\\alpha\\frac{8}{3}\\big)$ has to be equal to 1. Thus $\\alpha = \\frac{3}{8}$."
   ]
  },
  {
   "cell_type": "markdown",
   "metadata": {},
   "source": [
    "## 2\n",
    "What is the cumulative distribution function (CDF) that corresponds to the following probability distribution function? Please state the value of the CDF for all possible values of $x$.\n",
    "\n",
    "$f(x) = \\begin{cases}\n",
    "    \\frac{1}{3} & 0 < x < 3 \\\\\n",
    "    0           & \\text{otherwise}\n",
    "    \\end{cases}$"
   ]
  },
  {
   "cell_type": "markdown",
   "metadata": {},
   "source": [
    "**ANSWER**\n",
    "\n",
    "We know that the CDF of every value less than 0 is 0 and the CDF of every value greater than 3 is 1. For the section from 0 to 3 I will compute the integration of $f(x)$:\n",
    "\n",
    "$$\\int_{0}^{3} \\frac{1}{3} dx = \\left(\\frac{1}{3}x\\right)_0^x = \\left(\\frac{1}{3}x\\right)$$ Thus:\n",
    "\n",
    "$$f(x) = \\begin{cases}\n",
    "                0           & x < 0  \\\\\n",
    "                \\frac{1}{3}x  & 0 \\leq x \\leq 3 \\\\\n",
    "                1           & x > 3\n",
    "            \\end{cases}$$\n"
   ]
  },
  {
   "cell_type": "markdown",
   "metadata": {},
   "source": [
    "## 3\n",
    "For the probability distribution function for the random variable $X$,\n",
    "\n",
    "$f(x) = \\begin{cases}\n",
    "    \\frac{1}{3} & 0 < x < 3 \\\\\n",
    "    0           & \\text{otherwise}\n",
    "    \\end{cases}$\n",
    "    \n",
    "what is the (a) expected value and (b) variance of $X$. *Show all work*."
   ]
  },
  {
   "cell_type": "markdown",
   "metadata": {},
   "source": [
    "**ANSWER**\n",
    "\n",
    "(a) Expected value:\n",
    "\n",
    "$$E(x) = \\int_{a}^{b}x f(x) dx = \\int_{0}^{3} \\frac{x}{3} dx = \\left[\\frac{x^2}{6}\\right]_0^3  = \\left[\\frac{3^2}{6}\\right] - 0 = \\frac{3}{2}$$\n",
    "\n",
    "\n",
    "(b) Variance:\n",
    "\n",
    "$$ Var(x) = E[x^2] - E[x]^2 = \\int_{0}^{3} \\frac{x^2}{3} dx  -   \\Big(\\frac{3}{2}\\Big)^2=  \\left[\\frac{x^3}{9}\\right]_0^3 -   \\Big(\\frac{3}{2}\\Big)^2 = 3 -  \\Big(\\frac{3}{2}\\Big)^2 =  \\frac{3}{4}$$"
   ]
  },
  {
   "cell_type": "markdown",
   "metadata": {},
   "source": [
    "## 4\n",
    "Consider the following table of data that provides the values of a discrete data vector $\\mathbf{x}$ of samples from the random variable $X$, where each entry in $\\mathbf{x}$ is given as $x_i$.\n",
    "\n",
    "*Table 1. Dataset N=5 observations*\n",
    "\n",
    "|        | $x_0$ | $x_1$ | $x_2$ | $x_3$ | $x_4$ |\n",
    "|------  |-------|-------|-------|-------|-------|\n",
    "|$\\textbf{x}$| 2     | 3     | 10    | -1    | -1    |\n",
    "\n",
    "What is the (a) mean, (b) variance, and (c) median of the data? \n",
    "\n",
    "*Show all work. Your answer should include the definition of mean, median, and variance in the context of discrete data.*"
   ]
  },
  {
   "cell_type": "markdown",
   "metadata": {},
   "source": [
    "**ANSWER**\n",
    "\n",
    "(a) Mean: Is a measure that constists of the sum over every value in the datasets weighted by the probability of that value, which is 1 over the total number of observations.\n",
    "\n",
    "$$Mean\\left(x\\right)\\ =\\ \\frac{2}{5}+\\frac{3}{5}+\\frac{10}{5}-\\frac{1}{5}-\\frac{1}{5}=\\frac{13}{5}=2.6$$\n",
    "\n",
    "(b) Variance: Is a measure of how spread is the whole dataset from its mean.\n",
    "\n",
    "$$Variance\\left(x\\right) = E[x^2] - E[x]^2 = \\Big(\\frac{4}{5}+\\frac{9}{5}+\\frac{100}{5}-\\frac{1}{5}-\\frac{1}{5}\\Big) - \\Big(\\frac{13}{5}\\Big)^2 = \\frac{406}{25} = 16.24$$\n",
    "\n",
    "(c) Median\n",
    "\n"
   ]
  },
  {
   "cell_type": "markdown",
   "metadata": {},
   "source": [
    "## 5\n",
    "Review of counting from probability theory. \n",
    "\n",
    "(a) How many different 7-place license plates are possible if the first 3 places only contain letters and the last 4 only contain numbers?\n",
    "\n",
    "(b) How many different batting orders are possible for a baseball team with 9 players?\n",
    "\n",
    "(c) How many batting orders of 5 players are possible for a team with 9 players total?\n",
    "\n",
    "(d) Let's assume this class has 26 students and we want to form project teams. How many unique teams of 3 are possible?\n",
    "\n",
    "*Hint: For each problem, determine if order matters, and if it should be calculated with or without replacement.*"
   ]
  },
  {
   "cell_type": "markdown",
   "metadata": {},
   "source": [
    "**ANSWER**\n",
    "\n",
    "\n",
    "(a) $\\left(26\\cdot26\\cdot26\\cdot10\\cdot10\\cdot10\\cdot10\\right) = 175,760,000$\n",
    "\n",
    "(b) $9! = 362,880 $\n",
    "\n",
    "(c) $ ^{9}P_5 =  \\frac{9!}{\\left(9-5\\right)!} = \\frac{9!}{4!} = 15,120$\n",
    "\n",
    "(d) $ ^{26}C_3 = \\frac{26!}{\\left(26-3\\right)!\\left(3\\right)!} = \\frac{26!}{\\left(23\\right)!\\left(3\\right)!} = 2,600$\n",
    "\n"
   ]
  },
  {
   "cell_type": "markdown",
   "metadata": {},
   "source": [
    "# Linear Algebra"
   ]
  },
  {
   "cell_type": "markdown",
   "metadata": {},
   "source": [
    "## 6\n",
    "**Matrix manipulations and multiplication**. Machine learning involves working with many matrices, so this exercise will provide you with the opportunity to practice those skills.\n",
    "\n",
    "Let\n",
    "$\\mathbf{A} =  \\begin{bmatrix}\n",
    "1 & 2 & 3 \\\\\n",
    "2 & 4 & 5 \\\\\n",
    "3 & 5 & 6 \n",
    "\\end{bmatrix}$, $\\mathbf{b} =  \\begin{bmatrix}\n",
    "-1  \\\\\n",
    "3  \\\\\n",
    "8  \n",
    "\\end{bmatrix}$, $\\mathbf{c} =  \\begin{bmatrix}\n",
    "4  \\\\\n",
    "-3  \\\\\n",
    "6  \n",
    "\\end{bmatrix}$, and $\\mathbf{I} =  \\begin{bmatrix}\n",
    "1 & 0 & 0 \\\\\n",
    "0 & 1 & 0 \\\\\n",
    "0 & 0 & 1 \n",
    "\\end{bmatrix}$\n",
    "\n",
    "Compute the following or indicate that it cannot be computed:\n",
    "\n",
    "1. $\\mathbf{A}\\mathbf{A}$\n",
    "2. $\\mathbf{A}\\mathbf{A}^T$\n",
    "3. $\\mathbf{A}\\mathbf{b}$\n",
    "4. $\\mathbf{A}\\mathbf{b}^T$\n",
    "5. $\\mathbf{b}\\mathbf{A}$\n",
    "6. $\\mathbf{b}^T\\mathbf{A}$\n",
    "7. $\\mathbf{b}\\mathbf{b}$\n",
    "8. $\\mathbf{b}^T\\mathbf{b}$\n",
    "9. $\\mathbf{b}\\mathbf{b}^T$\n",
    "10. $\\mathbf{b} + \\mathbf{c}^T$\n",
    "11. $\\mathbf{b}^T\\mathbf{b}^T$\n",
    "12. $\\mathbf{A}^{-1}\\mathbf{b}$\n",
    "13. $\\mathbf{A}\\circ\\mathbf{A}$\n",
    "14. $\\mathbf{b}\\circ\\mathbf{c}$\n",
    "\n",
    "*Note: The element-wise (or Hadamard) product is the product of each element in one matrix with the corresponding element in another matrix, and is represented by the symbol \"$\\circ$\".*"
   ]
  },
  {
   "cell_type": "markdown",
   "metadata": {},
   "source": [
    "**ANSWER**"
   ]
  },
  {
   "cell_type": "code",
   "execution_count": 45,
   "metadata": {},
   "outputs": [],
   "source": [
    "import numpy as np\n",
    "\n",
    "A=np.array([[1, 2, 3], [2, 4, 5], [3, 5, 6]])\n",
    "b=np.array([[-1], [3], [8]])\n",
    "c=np.array([[4],[-3],[6]])\n",
    "I=np.array([[1,0,0], [0,1,0], [0,0,1]])"
   ]
  },
  {
   "cell_type": "markdown",
   "metadata": {},
   "source": [
    "1.\n",
    "$AA = \\begin{bmatrix}\n",
    "  14 & 25 & 31\\\\\n",
    "  25 & 45 & 56\\\\\n",
    "  31 & 56 & 70\\\\\n",
    "\\end{bmatrix}$\n",
    "\n",
    "2.\n",
    "$AA^T = \\begin{bmatrix}\n",
    "  14 & 25 & 31\\\\\n",
    "  25 & 45 & 56\\\\\n",
    "  31 & 56 & 70\\\\\n",
    "\\end{bmatrix}$\n",
    "\n",
    "3.\n",
    "$Ab = \\begin{bmatrix}\n",
    "  29\\\\\n",
    "  50\\\\\n",
    "  60\\\\\n",
    "\\end{bmatrix}$\n",
    "\n",
    "4.Cannot be computed.\n",
    "\n",
    "5.Cannot be computed.\n",
    "\n",
    "6.\n",
    "$b^TA = \\begin{bmatrix}\n",
    "  29 & 50 & 60\\\\\n",
    "\\end{bmatrix}$\n",
    "\n",
    "7.Cannot be computed.\n",
    "\n",
    "8.\n",
    "$b^T b =\\begin{bmatrix}\n",
    "  74\\\\\n",
    "\\end{bmatrix}$ \n",
    "\n",
    "9.\n",
    "$bb^T = \\begin{bmatrix}\n",
    "  1 & -3 & -8\\\\\n",
    "  -3 & 9 & 24\\\\\n",
    "  -8 & 24 & 64\\\\\n",
    "\\end{bmatrix}$\n",
    "\n",
    "10.Cannot be computed.\n",
    "\n",
    "11.Cannot be computed.\n",
    "\n",
    "12.\n",
    "$A^{-1}b = \\begin{bmatrix}\n",
    "  6.\\\\\n",
    "  4.\\\\\n",
    "  -5.\\\\\n",
    "\\end{bmatrix}$\n",
    "\n",
    "13.\n",
    "$A\\circ A = \\begin{bmatrix}\n",
    "  1 & 4 & 9\\\\\n",
    "  4 & 16 & 25\\\\\n",
    "  9 & 25 & 36\\\\\n",
    "\\end{bmatrix}$\n",
    "\n",
    "14.\n",
    "$b \\circ c = \\begin{bmatrix}\n",
    "  -4\\\\\n",
    "  -9\\\\\n",
    "  48\\\\\n",
    "\\end{bmatrix}$"
   ]
  },
  {
   "cell_type": "markdown",
   "metadata": {},
   "source": [
    "## 6\n",
    "**Eigenvectors and eigenvalues**. Eigenvectors and eigenvalues are useful for some machine learning algorithms, but the concepts take time to solidly grasp. For an intuitive review of these concepts, explore this [interactive website at Setosa.io](http://setosa.io/ev/eigenvectors-and-eigenvalues/). Also, the series of linear algebra videos by Grant Sanderson of 3Brown1Blue are excellent and can be viewed on youtube [here](https://www.youtube.com/playlist?list=PLZHQObOWTQDPD3MizzM2xVFitgF8hE_ab).\n",
    "\n",
    "1. Calculate the eigenvalues and corresponding eigenvectors of matrix $\\mathbf{A}$ above, from the last question.\n",
    "2. Choose one of the eigenvector/eigenvalue pairs, $\\mathbf{v}$ and $\\lambda$, and show that $\\mathbf{A} \\mathbf{v} = \\lambda \\mathbf{v}$. Also show that this relationship extends to higher orders: $\\mathbf{A} \\mathbf{A} \\mathbf{v} = \\lambda^2 \\mathbf{v}$\n",
    "3. Show that the eigenvectors are orthogonal to one another (e.g. their inner product is zero). This is true for real, symmetric matrices."
   ]
  },
  {
   "cell_type": "markdown",
   "metadata": {},
   "source": [
    "**ANSWER**\n",
    "\n",
    "1.\n",
    "The eigenvalues are those values $\\lambda$ for which $det(A-\\lambda I)=0$ where $I$ is the identity matrix. The eigenvalues of $A$ are:\n",
    "$$\\begin{bmatrix}\n",
    "  11.34481428 & -0.51572947 & 0.17091519\\\\\n",
    "\\end{bmatrix}$$\n",
    "\n",
    "The eigenvectors associated with the previous eigenvalues are ordered by column:\n",
    "$$\\begin{bmatrix}\n",
    "  -0.32798528 & -0.73697623 & 0.59100905\\\\\n",
    "  -0.59100905 & -0.32798528 & -0.73697623\\\\\n",
    "  -0.73697623 & 0.59100905 & 0.32798528\\\\\n",
    "\\end{bmatrix}$$\n",
    "The numbers are rounded."
   ]
  },
  {
   "cell_type": "markdown",
   "metadata": {},
   "source": [
    "2.\n",
    "I will choose the first eigenvalue $\\lambda = 11.34481428$ and its associated eigenvector $\\begin{bmatrix}\n",
    "  -0.32798528 & -0.59100905 & -0.73697623\\\\\n",
    "\\end{bmatrix}$.\n",
    "\n",
    "$$Av = \\begin{bmatrix}\n",
    "  -3.72093207\\\\\n",
    "  -6.70488791\\\\\n",
    "  -8.36085847\\\\\n",
    "\\end{bmatrix}$$\n",
    "\n",
    "$$\\lambda v = \\begin{bmatrix}\n",
    "  -3.72093207\\\\\n",
    "  -6.70488791\\\\\n",
    "  -8.36085847\\\\\n",
    "\\end{bmatrix}$$\n",
    "\n",
    "This relationship extends to higher orders:\n",
    "\n",
    "$$AAv = \\begin{bmatrix}\n",
    "  -42.2132833\\\\\n",
    "  -76.06570813\\\\\n",
    "  -94.85238658\\\\\n",
    "\\end{bmatrix}$$\n",
    "\n",
    "$$\\lambda^2 v = \\begin{bmatrix}\n",
    "  -42.21328349\\\\\n",
    "  -76.06570811\\\\\n",
    "  -94.85238643\\\\\n",
    "\\end{bmatrix}$$"
   ]
  },
  {
   "cell_type": "markdown",
   "metadata": {},
   "source": [
    "3.\n",
    "To show that the eigenvectors are orthogonal, each vector has to be compared with all of the other vectors. The inner product has to be zero:\n",
    "$$\\begin{bmatrix}\n",
    "  2.3317968667058153e-09\\\\\n",
    "\\end{bmatrix}$$\n",
    "\n",
    "$$\\begin{bmatrix}\n",
    "  -2.3317968667058153e-09\\\\\n",
    "\\end{bmatrix}$$\n",
    "\n",
    "$$\\begin{bmatrix}\n",
    "  2.3317968667058153e-09\\\\\n",
    "\\end{bmatrix}$$\n",
    "    \n",
    "Due to rounded error the values are not exaclty zero but are really close to zero the three cases."
   ]
  },
  {
   "cell_type": "markdown",
   "metadata": {},
   "source": [
    "# Numerical Programming"
   ]
  },
  {
   "cell_type": "markdown",
   "metadata": {},
   "source": [
    "## 7\n",
    "Speed comparison between vectorized and non-vectorized code. Begin by creating an array of 10 million random numbers using the numpy random.randn module. Compute the sum of the squares first in a for loop, then using Numpy's `dot` module. Time how long it takes to compute each and report the results and report the output. How many times faster is the vectorized code than the for loop approach?\n",
    "\n",
    "*Note: all code should be well commented, properly formatted, and your answers should be output using the `print()` function as follows (where the # represents your answers, to a reasonable precision):\n",
    "\n",
    "`Time [sec] (non-vectorized): ######`\n",
    "\n",
    "`Time [sec] (vectorized):     ######`\n",
    "\n",
    "`The vectorized code is ##### times faster than the vectorized code`"
   ]
  },
  {
   "cell_type": "markdown",
   "metadata": {},
   "source": [
    "**ANSWER**"
   ]
  },
  {
   "cell_type": "code",
   "execution_count": 30,
   "metadata": {},
   "outputs": [],
   "source": [
    "import numpy as np\n",
    "import time\n",
    "\n",
    "# Generate the random samples\n",
    "\n",
    "arr = np.random.randn(10**7)"
   ]
  },
  {
   "cell_type": "code",
   "execution_count": 34,
   "metadata": {},
   "outputs": [
    {
     "name": "stdout",
     "output_type": "stream",
     "text": [
      "Sum of squares =  10013087.195079682\n"
     ]
    }
   ],
   "source": [
    "# Compute the sum of squares the non-vectorized way (using a for loop)\n",
    "\n",
    "t1 = time.time() # This will tell us the time when the for loop starts.\n",
    "arr_sq = 0 # I am creating an empty object in which I will add each entry squared iteratively.\n",
    "for i in range(len(arr)):\n",
    "    arr_sq += arr[i]*arr[i]\n",
    "    pass\n",
    "t2 = time.time() # This will tell us the time thwn the for loop ends.\n",
    "print(\"Sum of squares = \", arr_sq)"
   ]
  },
  {
   "cell_type": "code",
   "execution_count": 35,
   "metadata": {},
   "outputs": [
    {
     "name": "stdout",
     "output_type": "stream",
     "text": [
      "Sum of squares =  10013087.195080038\n"
     ]
    }
   ],
   "source": [
    "# Compute the sum of squares the vectorized way (using numpy)\n",
    "\n",
    "t3 = time.time()\n",
    "arr_sq_vec = np.dot(arr,arr)\n",
    "t4 = time.time()\n",
    "print(\"Sum of squares = \", arr_sq_vec)"
   ]
  },
  {
   "cell_type": "code",
   "execution_count": 33,
   "metadata": {},
   "outputs": [
    {
     "name": "stdout",
     "output_type": "stream",
     "text": [
      "Time [sec] (non-vectorized): 3.546880006790161\n",
      "Time [sec] (vectorized): 0.006176948547363281\n",
      "The vectorized code is 574.2123282383819 times faster than the non-vectorized code\n"
     ]
    }
   ],
   "source": [
    "# Print the results\n",
    "\n",
    "print(\"Time [sec] (non-vectorized): {}\".format(t2-t1))\n",
    "print(\"Time [sec] (vectorized): {}\".format(t4-t3))\n",
    "print(\"The vectorized code is {} times faster than the non-vectorized code\".format((t2-t1)/(t4-t3)))"
   ]
  },
  {
   "cell_type": "markdown",
   "metadata": {},
   "source": [
    "## 8\n",
    "One popular Agile development framework is Scrum (a paradigm recommended for data science projects). It emphasizes the continual evolution of code for projects, becoming progressively better, but starting with a quickly developed minimum viable product. This often means that code written early on is not optimized, and that's a good thing - it's best to get it to work first before optimizing. Imagine that you wrote the following code during a sprint towards getting an end-to-end system working. Vectorize the following code and show the difference in speed between the current implementation and a vectorized version.\n",
    "\n",
    "The function below computes the function $f(x,y) = x^2 - 2 y^2$ and determines whether this quantity is above or below a given threshold, `thresh=0`. This is done for $x,y \\in \\{-4,4\\}$, over a 2,000-by-2,000 grid covering that domain.\n",
    "\n",
    "(a) Vectorize this code and demonstrate (as in the last exercise) the speed increase through vectorization and (b) plot the resulting data - both the function $f(x,y)$ and the thresholded output - using [`imshow`](https://matplotlib.org/api/_as_gen/matplotlib.pyplot.imshow.html?highlight=matplotlib%20pyplot%20imshow#matplotlib.pyplot.imshow) from `matplotlib`.\n",
    "\n",
    "*Hint: look at the `numpy` [`meshgrid`](https://docs.scipy.org/doc/numpy-1.13.0/reference/generated/numpy.meshgrid.html) documentation*"
   ]
  },
  {
   "cell_type": "code",
   "execution_count": 112,
   "metadata": {},
   "outputs": [
    {
     "name": "stdout",
     "output_type": "stream",
     "text": [
      "Time [sec] (non-vectorized): 7.047332048416138\n",
      "Time [sec] (vectorized): 0.028059959411621094\n",
      "The vectorized code is 251.15261020290248 times faster than the non-vectorized code\n"
     ]
    }
   ],
   "source": [
    "import numpy as np\n",
    "import time\n",
    "import matplotlib.pyplot as plt\n",
    "\n",
    "# Initialize variables for this exerise\n",
    "g = 2000\n",
    "x = np.linspace(-4,4,g)\n",
    "y = np.linspace(-4,4,g)\n",
    "xx, yy = np.meshgrid(x, y)\n",
    "thresh = 0\n",
    "\n",
    "# Nonvectorized implementation\n",
    "z1 = np.zeros((len(x),len(y)))\n",
    "z1_t = np.zeros((len(x),len(y)))\n",
    "\n",
    "t1 = time.time()\n",
    "for i in range(len(x)):\n",
    "    for j in range(len(y)):\n",
    "        z1[i,j] = (x[i]**2) - (2*(y[j]**2))\n",
    "        pass\n",
    "    pass\n",
    "for i in range(len(x)):\n",
    "    for j in range(len(y)):\n",
    "        if z1[i,j] > thresh:\n",
    "            z1_t[i,j] = 1\n",
    "        elif z1[i,j] <= thresh:\n",
    "            z1_t[i,j]=0\n",
    "            pass\n",
    "        pass\n",
    "    pass\n",
    "t2 = time.time()\n",
    "\n",
    "# Vectorized implementation\n",
    "z2 = np.zeros((len(x),len(y)))\n",
    "z2_t = np.zeros((len(x),len(y)))\n",
    "\n",
    "t3 = time.time()\n",
    "z2 = (xx**2)-(2*(yy**2))\n",
    "z2_t = np.where(z2 <= thresh,0,1)\n",
    "t4 = time.time()\n",
    "\n",
    "# Print the time for each and the speed increase\n",
    "print(\"Time [sec] (non-vectorized): {}\".format(t2-t1))\n",
    "print(\"Time [sec] (vectorized): {}\".format(t4-t3))\n",
    "print(\"The vectorized code is {} times faster than the non-vectorized code\".format((t2-t1)/(t4-t3)))\n"
   ]
  },
  {
   "cell_type": "code",
   "execution_count": 114,
   "metadata": {},
   "outputs": [
    {
     "data": {
      "image/png": "[encoded data removed]",
      "text/plain": [
       "<matplotlib.figure.Figure at 0x16028e0b8>"
      ]
     },
     "metadata": {},
     "output_type": "display_data"
    },
    {
     "data": {
      "image/png": "[encoded data removed]",
      "text/plain": [
       "<matplotlib.figure.Figure at 0x16028e9b0>"
      ]
     },
     "metadata": {},
     "output_type": "display_data"
    }
   ],
   "source": [
    "# Plot the result\n",
    "plt.show(plt.imshow(z2))\n",
    "plt.show(plt.imshow(z2_t))"
   ]
  },
  {
   "cell_type": "markdown",
   "metadata": {},
   "source": [
    "## 9\n",
    "This exercise will walk through some basic numerical programming exercises.\n",
    "1. Synthesize $n=10^4$ normally distributed data points with mean $\\mu=2$ and a standard deviation of $\\sigma=1$. Call these observations from a random variable $X$, and call the vector of observations that you generate, $\\textbf{x}$.\n",
    "2. Calculate the mean and standard deviation of $\\textbf{x}$ to validate (1) and provide the result to a precision of four significant figures.\n",
    "3. Plot a histogram of the data in $\\textbf{x}$ with 30 bins\n",
    "4. What is the 90th percentile of $\\textbf{x}$? The 90th percentile is the value below which 90% of observations can be found.\n",
    "5. What is the 99th percentile of $\\textbf{x}$?\n",
    "6. Now synthesize $n=10^4$ normally distributed data points with mean $\\mu=0$ and a standard deviation of $\\sigma=3$. Call these observations from a random variable $Y$, and call the vector of observations that you generate, $\\textbf{y}$.\n",
    "7. Plot the histogram of the data in $\\textbf{y}$ on a (new) plot with the histogram of $\\textbf{x}$, so that both histograms can be seen and compared.\n",
    "8. Using the observations from $\\textbf{x}$ and $\\textbf{y}$, estimate $E[XY]$"
   ]
  },
  {
   "cell_type": "markdown",
   "metadata": {},
   "source": [
    "**ANSWER**"
   ]
  },
  {
   "cell_type": "code",
   "execution_count": 126,
   "metadata": {},
   "outputs": [
    {
     "name": "stdout",
     "output_type": "stream",
     "text": [
      "2.0153\n",
      "0.9891\n"
     ]
    }
   ],
   "source": [
    "# 1\n",
    "n = 10**4\n",
    "x = np.random.normal(2, 1, n)\n",
    "\n",
    "# 2\n",
    "print(round(np.mean(x),4))\n",
    "print(round(np.std(x),4))"
   ]
  },
  {
   "cell_type": "code",
   "execution_count": 127,
   "metadata": {},
   "outputs": [
    {
     "data": {
      "image/png": "[encoded data removed]",
      "text/plain": [
       "<matplotlib.figure.Figure at 0x160135ef0>"
      ]
     },
     "metadata": {},
     "output_type": "display_data"
    }
   ],
   "source": [
    "# 3\n",
    "h = plt.hist(x,bins=30)\n",
    "plt.show()"
   ]
  },
  {
   "cell_type": "code",
   "execution_count": 128,
   "metadata": {},
   "outputs": [
    {
     "name": "stdout",
     "output_type": "stream",
     "text": [
      "3.2963361168215917\n"
     ]
    }
   ],
   "source": [
    "# 4\n",
    "print(np.percentile(x,90))"
   ]
  },
  {
   "cell_type": "code",
   "execution_count": 129,
   "metadata": {},
   "outputs": [
    {
     "name": "stdout",
     "output_type": "stream",
     "text": [
      "4.271685484509439\n"
     ]
    }
   ],
   "source": [
    "# 5\n",
    "print(np.percentile(x,99))"
   ]
  },
  {
   "cell_type": "code",
   "execution_count": 130,
   "metadata": {},
   "outputs": [],
   "source": [
    "# 6\n",
    "y = np.random.normal(0, 3, n)"
   ]
  },
  {
   "cell_type": "code",
   "execution_count": 133,
   "metadata": {},
   "outputs": [
    {
     "data": {
      "image/png": "[encoded data removed]",
      "text/plain": [
       "<matplotlib.figure.Figure at 0x1535fc080>"
      ]
     },
     "metadata": {},
     "output_type": "display_data"
    }
   ],
   "source": [
    "# 7\n",
    "hx = plt.hist(x,bins=30, alpha = 0.6)\n",
    "hy = plt.hist(y,bins=30,alpha = 0.6)\n",
    "plt.show()"
   ]
  },
  {
   "cell_type": "code",
   "execution_count": 132,
   "metadata": {},
   "outputs": [
    {
     "data": {
      "text/plain": [
       "0.0850300935236107"
      ]
     },
     "execution_count": 132,
     "metadata": {},
     "output_type": "execute_result"
    }
   ],
   "source": [
    "# 8. Since the distributions are independent, E[XY]=E[X]E[Y].\n",
    "np.mean(x)*np.mean(y)"
   ]
  },
  {
   "cell_type": "markdown",
   "metadata": {},
   "source": [
    "## 10\n",
    "Estimate the integral of the function $f(x)$ on the interval $0\\leq x < 2.5$ assuming we only know the following points from $f$:\n",
    "\n",
    "*Table 1. Dataset containing n=5 observations*\n",
    "\n",
    "| $x_i$ | 0.0 | 0.5 | 1.0 | 1.5 | 2.0 |\n",
    "|-|-|-|-|-|-|\n",
    "| $y_i$ | 6 | 7 | 8 | 4 | 1 |\n"
   ]
  },
  {
   "cell_type": "markdown",
   "metadata": {},
   "source": [
    "**ANSWER**\n",
    "\n",
    "$ \\left(0.5\\right)\\cdot\\left(6+7+8+4+1\\right)\\ =\\ 13$"
   ]
  },
  {
   "cell_type": "markdown",
   "metadata": {
    "collapsed": true
   },
   "source": [
    "# Version Control via Git"
   ]
  },
  {
   "cell_type": "markdown",
   "metadata": {},
   "source": [
    "## 11\n",
    "Complete the [Atlassian Git tutorial](https://www.atlassian.com/git/tutorials/what-is-version-control), specifically the following sections. Try each concept that's presented. For this tutorial, instead of using BitBucket, use Github. Create a github account here if you don't already have one: https://github.com/\n",
    "1. [What is version control](https://www.atlassian.com/git/tutorials/what-is-version-control)\n",
    "2. [What is Git](https://www.atlassian.com/git/tutorials/what-is-git)\n",
    "3. [Install Git](https://www.atlassian.com/git/tutorials/install-git)\n",
    "4. [Setting up a repository](https://www.atlassian.com/git/tutorials/install-git)\n",
    "5. [Saving changes](https://www.atlassian.com/git/tutorials/saving-changes)\n",
    "6. [Inspecting a repository](https://www.atlassian.com/git/tutorials/inspecting-a-repository)\n",
    "7. [Undoing changes](https://www.atlassian.com/git/tutorials/undoing-changes)\n",
    "8. [Rewriting history](https://www.atlassian.com/git/tutorials/rewriting-history)\n",
    "9. [Syncing](https://www.atlassian.com/git/tutorials/syncing)\n",
    "10. [Making a pull request](https://www.atlassian.com/git/tutorials/making-a-pull-request)\n",
    "11. [Using branches](https://www.atlassian.com/git/tutorials/using-branches)\n",
    "12. [Comparing workflows](https://www.atlassian.com/git/tutorials/comparing-workflows)\n",
    "\n",
    "For your answer, affirm that you either completed the tutorial or have previous experience with all of the concepts above. Do this by typing your name below and selecting the situation that applies from the two options in brackets."
   ]
  },
  {
   "cell_type": "markdown",
   "metadata": {},
   "source": [
    "**ANSWER**\n",
    "\n",
    "*I, **Ana Belen Barcenas Jimenez**, affirm that I have **I have previous experience that covers all the content in this tutorial.** *"
   ]
  },
  {
   "cell_type": "markdown",
   "metadata": {},
   "source": [
    "## 12\n",
    "Using Github to create a static HTML website:\n",
    "1. Create a branch in your `machine-learning-course` repo called \"gh-pages\" and checkout that branch (this will provide an example of how to create a simple static website using [Github Pages](https://pages.github.com/))\n",
    "2. Create a file called \"index.html\" with the contents \"Hello World\" and add, commit, and push it to that branch.\n",
    "3. Submit the following: (a) a link to your github repository and (b) a link to your new \"Hello World\" website. The latter should be at the address https://[USERNAME].github.io/ECE590-assignment0 (where [USERNAME] is your github username)."
   ]
  },
  {
   "cell_type": "markdown",
   "metadata": {},
   "source": [
    "**ANSWER**\n",
    "\n",
    "(a) https://github.com/abbarcenasj/machine-learning-course/tree/gh-pages\n",
    "\n",
    "(b) https://abbarcenasj.github.io/machine-learning-course/index.html\n"
   ]
  },
  {
   "cell_type": "markdown",
   "metadata": {
    "collapsed": true
   },
   "source": [
    "# Exploratory Data Analysis\n",
    "## 13\n",
    "Here you'll bring together some of the individual skills that you demonstrated above and create a Jupyter notebook based blog post on data analysis.\n",
    "\n",
    "1. Find a dataset that interests you and relates to a question or problem that you find intriguing\n",
    "2. Using a Jupyter notebook, describe the dataset, the source of the data, and the reason the dataset was of interest.\n",
    "3. Check the data and see if they need to be cleaned: are there missing values? Are there clearly erroneous values? Do two tables need to be merged together? Clean the data so it can be visualized.\n",
    "3. Plot the data, demonstrating interesting features that you discover. Are there any relationships between variables that were surprising or patterns that emerged? Please exercise creativity and curiosity in your plots.\n",
    "4. What insights are you able to take away from exploring the data? Is there a reason why analyzing the dataset you chose is particularly interesting or important? Summarize this as if your target audience was the readership of a major news organization - boil down your findings in a way that is accessible, but still accurate.\n",
    "5. Create a public repository on your github account titled \"machine-learning-course\". In it, create a readme file that contains the heading \"ECE590: Introductory Machine Learning for Data Science\". Add, commit, and push that Jupyter notebook to the master branch. Provide the link to the that post here."
   ]
  },
  {
   "cell_type": "markdown",
   "metadata": {},
   "source": [
    "**ANSWER**\n",
    "\n",
    "https://github.com/abbarcenasj/machine-learning-course/blob/master/Assn_1/EDA.ipynb"
   ]
  }
 ],
 "metadata": {
  "kernelspec": {
   "display_name": "Python 3",
   "language": "python",
   "name": "python3"
  },
  "language_info": {
   "codemirror_mode": {
    "name": "ipython",
    "version": 3
   },
   "file_extension": ".py",
   "mimetype": "text/x-python",
   "name": "python",
   "nbconvert_exporter": "python",
   "pygments_lexer": "ipython3",
   "version": "3.6.4"
  }
 },
 "nbformat": 4,
 "nbformat_minor": 2
}
