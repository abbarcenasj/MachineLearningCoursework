{
 "cells": [
  {
   "cell_type": "markdown",
   "metadata": {},
   "source": [
    "# Seattle's short-term rental market\n",
    "### 1. Dataset: Airbnb listings in Seattle"
   ]
  },
  {
   "cell_type": "markdown",
   "metadata": {},
   "source": [
    "### 2. \n",
    "Description: This dataset was scrapped from Airbnb.com on December 19th, 2018. The code employed can be found at https://github.com/tomslee/airbnb-data-collection. The dataset contains 7,576 listings in Seattle including price, longitude, latitude, reviews, room type, accommodates, bedrooms, bathrooms, etc.\n",
    "\n",
    "Source: https://www.kaggle.com/shanelev/seattle-airbnb-listings/home\n",
    "\n",
    "Reason: This dataset can be helpful to understand the real state market in Seattle for those interested in investing on the area. Some relevant questions could be:\n",
    "* What is the rental price range by neighborhood?\n",
    "* What type of room seems to be the most popular among users?\n",
    "* How does the price relates to the # of bedrooms and bathrooms by neighbordhood?"
   ]
  },
  {
   "cell_type": "markdown",
   "metadata": {},
   "source": [
    "### 3. Data cleaning"
   ]
  },
  {
   "cell_type": "code",
   "execution_count": 12,
   "metadata": {},
   "outputs": [
    {
     "data": {
      "text/html": [
       "<div>\n",
       "<style scoped>\n",
       "    .dataframe tbody tr th:only-of-type {\n",
       "        vertical-align: middle;\n",
       "    }\n",
       "\n",
       "    .dataframe tbody tr th {\n",
       "        vertical-align: top;\n",
       "    }\n",
       "\n",
       "    .dataframe thead th {\n",
       "        text-align: right;\n",
       "    }\n",
       "</style>\n",
       "<table border=\"1\" class=\"dataframe\">\n",
       "  <thead>\n",
       "    <tr style=\"text-align: right;\">\n",
       "      <th></th>\n",
       "      <th>Unnamed: 0</th>\n",
       "      <th>room_id</th>\n",
       "      <th>host_id</th>\n",
       "      <th>room_type</th>\n",
       "      <th>address</th>\n",
       "      <th>reviews</th>\n",
       "      <th>overall_satisfaction</th>\n",
       "      <th>accommodates</th>\n",
       "      <th>bedrooms</th>\n",
       "      <th>bathrooms</th>\n",
       "      <th>price</th>\n",
       "      <th>last_modified</th>\n",
       "      <th>latitude</th>\n",
       "      <th>longitude</th>\n",
       "      <th>location</th>\n",
       "      <th>name</th>\n",
       "      <th>currency</th>\n",
       "      <th>rate_type</th>\n",
       "    </tr>\n",
       "  </thead>\n",
       "  <tbody>\n",
       "    <tr>\n",
       "      <th>0</th>\n",
       "      <td>0</td>\n",
       "      <td>2318</td>\n",
       "      <td>2536</td>\n",
       "      <td>Entire home/apt</td>\n",
       "      <td>Seattle, WA, United States</td>\n",
       "      <td>21</td>\n",
       "      <td>5.0</td>\n",
       "      <td>8</td>\n",
       "      <td>4.0</td>\n",
       "      <td>2.5</td>\n",
       "      <td>250</td>\n",
       "      <td>2018-12-20 03:46:14.698548</td>\n",
       "      <td>47.610819</td>\n",
       "      <td>-122.290816</td>\n",
       "      <td>0101000020E6100000D449B6BA9C925EC0416326512FCE...</td>\n",
       "      <td>Casa Madrona - Urban Oasis, 1 block from the P...</td>\n",
       "      <td>USD</td>\n",
       "      <td>nightly</td>\n",
       "    </tr>\n",
       "    <tr>\n",
       "      <th>1</th>\n",
       "      <td>1</td>\n",
       "      <td>3335</td>\n",
       "      <td>4193</td>\n",
       "      <td>Entire home/apt</td>\n",
       "      <td>Seattle, WA, United States</td>\n",
       "      <td>1</td>\n",
       "      <td>NaN</td>\n",
       "      <td>4</td>\n",
       "      <td>2.0</td>\n",
       "      <td>1.0</td>\n",
       "      <td>100</td>\n",
       "      <td>2018-12-20 04:08:45.277643</td>\n",
       "      <td>47.529846</td>\n",
       "      <td>-122.275840</td>\n",
       "      <td>0101000020E61000006FBBD05CA7915EC04DF564FED1C3...</td>\n",
       "      <td>Sweet Seattle Urban Homestead 2 Bdr</td>\n",
       "      <td>USD</td>\n",
       "      <td>nightly</td>\n",
       "    </tr>\n",
       "    <tr>\n",
       "      <th>2</th>\n",
       "      <td>2</td>\n",
       "      <td>4291</td>\n",
       "      <td>35749</td>\n",
       "      <td>Private room</td>\n",
       "      <td>Seattle, WA, United States</td>\n",
       "      <td>63</td>\n",
       "      <td>4.5</td>\n",
       "      <td>2</td>\n",
       "      <td>1.0</td>\n",
       "      <td>1.0</td>\n",
       "      <td>82</td>\n",
       "      <td>2018-12-20 03:04:19.861014</td>\n",
       "      <td>47.687801</td>\n",
       "      <td>-122.313427</td>\n",
       "      <td>0101000020E6100000BDAB1E300F945EC0FB93F8DC09D8...</td>\n",
       "      <td>Sunrise in Seattle Master Suite</td>\n",
       "      <td>USD</td>\n",
       "      <td>nightly</td>\n",
       "    </tr>\n",
       "    <tr>\n",
       "      <th>3</th>\n",
       "      <td>3</td>\n",
       "      <td>5682</td>\n",
       "      <td>8993</td>\n",
       "      <td>Entire home/apt</td>\n",
       "      <td>Seattle, WA, United States</td>\n",
       "      <td>462</td>\n",
       "      <td>5.0</td>\n",
       "      <td>2</td>\n",
       "      <td>0.0</td>\n",
       "      <td>1.0</td>\n",
       "      <td>49</td>\n",
       "      <td>2018-12-20 04:11:25.482975</td>\n",
       "      <td>47.523980</td>\n",
       "      <td>-122.359891</td>\n",
       "      <td>0101000020E6100000FCC7427408975EC009E1D1C611C3...</td>\n",
       "      <td>Cozy Studio, min. to downtown -WiFi</td>\n",
       "      <td>USD</td>\n",
       "      <td>nightly</td>\n",
       "    </tr>\n",
       "    <tr>\n",
       "      <th>4</th>\n",
       "      <td>4</td>\n",
       "      <td>6606</td>\n",
       "      <td>14942</td>\n",
       "      <td>Entire home/apt</td>\n",
       "      <td>Seattle, WA, United States</td>\n",
       "      <td>134</td>\n",
       "      <td>4.5</td>\n",
       "      <td>2</td>\n",
       "      <td>1.0</td>\n",
       "      <td>1.0</td>\n",
       "      <td>90</td>\n",
       "      <td>2018-12-20 03:12:38.391711</td>\n",
       "      <td>47.654109</td>\n",
       "      <td>-122.337605</td>\n",
       "      <td>0101000020E6100000D47D00529B955EC07782FDD7B9D3...</td>\n",
       "      <td>Fab, private seattle urban cottage!</td>\n",
       "      <td>USD</td>\n",
       "      <td>nightly</td>\n",
       "    </tr>\n",
       "    <tr>\n",
       "      <th>5</th>\n",
       "      <td>5</td>\n",
       "      <td>9419</td>\n",
       "      <td>30559</td>\n",
       "      <td>Private room</td>\n",
       "      <td>Seattle, WA, United States</td>\n",
       "      <td>130</td>\n",
       "      <td>4.5</td>\n",
       "      <td>2</td>\n",
       "      <td>1.0</td>\n",
       "      <td>3.0</td>\n",
       "      <td>65</td>\n",
       "      <td>2018-12-20 04:08:20.099202</td>\n",
       "      <td>47.550167</td>\n",
       "      <td>-122.319366</td>\n",
       "      <td>0101000020E6100000145D177E70945EC0522B4CDF6BC6...</td>\n",
       "      <td>Glorious sun room w/ memory foambed</td>\n",
       "      <td>USD</td>\n",
       "      <td>nightly</td>\n",
       "    </tr>\n",
       "    <tr>\n",
       "      <th>6</th>\n",
       "      <td>6</td>\n",
       "      <td>9460</td>\n",
       "      <td>30832</td>\n",
       "      <td>Private room</td>\n",
       "      <td>Seattle, WA, United States</td>\n",
       "      <td>401</td>\n",
       "      <td>5.0</td>\n",
       "      <td>2</td>\n",
       "      <td>1.0</td>\n",
       "      <td>1.0</td>\n",
       "      <td>78</td>\n",
       "      <td>2018-12-20 03:45:03.853262</td>\n",
       "      <td>47.608010</td>\n",
       "      <td>-122.328739</td>\n",
       "      <td>0101000020E6100000DD7A4D0F0A955EC00BD28C45D3CD...</td>\n",
       "      <td>Downtown/Convention Ctr B&amp;B - Nice!</td>\n",
       "      <td>USD</td>\n",
       "      <td>nightly</td>\n",
       "    </tr>\n",
       "    <tr>\n",
       "      <th>7</th>\n",
       "      <td>7</td>\n",
       "      <td>9531</td>\n",
       "      <td>31481</td>\n",
       "      <td>Entire home/apt</td>\n",
       "      <td>Seattle, WA, United States</td>\n",
       "      <td>35</td>\n",
       "      <td>5.0</td>\n",
       "      <td>4</td>\n",
       "      <td>2.0</td>\n",
       "      <td>1.0</td>\n",
       "      <td>165</td>\n",
       "      <td>2018-12-20 04:12:23.644451</td>\n",
       "      <td>47.555389</td>\n",
       "      <td>-122.384739</td>\n",
       "      <td>0101000020E6100000BA9F53909F985EC071C79BFC16C7...</td>\n",
       "      <td>The Adorable Sweet Orange Craftsman</td>\n",
       "      <td>USD</td>\n",
       "      <td>nightly</td>\n",
       "    </tr>\n",
       "    <tr>\n",
       "      <th>8</th>\n",
       "      <td>8</td>\n",
       "      <td>9534</td>\n",
       "      <td>31481</td>\n",
       "      <td>Entire home/apt</td>\n",
       "      <td>Seattle, WA, United States</td>\n",
       "      <td>36</td>\n",
       "      <td>5.0</td>\n",
       "      <td>3</td>\n",
       "      <td>2.0</td>\n",
       "      <td>1.0</td>\n",
       "      <td>95</td>\n",
       "      <td>2018-12-20 04:11:31.085822</td>\n",
       "      <td>47.556236</td>\n",
       "      <td>-122.385981</td>\n",
       "      <td>0101000020E610000027F8A6E9B3985EC0CE6DC2BD32C7...</td>\n",
       "      <td>The Coolest Tangerine Dream MIL!</td>\n",
       "      <td>USD</td>\n",
       "      <td>nightly</td>\n",
       "    </tr>\n",
       "    <tr>\n",
       "      <th>9</th>\n",
       "      <td>9</td>\n",
       "      <td>9596</td>\n",
       "      <td>14942</td>\n",
       "      <td>Entire home/apt</td>\n",
       "      <td>Seattle, WA, United States</td>\n",
       "      <td>76</td>\n",
       "      <td>4.5</td>\n",
       "      <td>4</td>\n",
       "      <td>1.0</td>\n",
       "      <td>1.0</td>\n",
       "      <td>115</td>\n",
       "      <td>2018-12-20 03:15:01.176545</td>\n",
       "      <td>47.654787</td>\n",
       "      <td>-122.336520</td>\n",
       "      <td>0101000020E6100000CB9C2E8B89955EC0486C770FD0D3...</td>\n",
       "      <td>the down home , spacious, central and fab!</td>\n",
       "      <td>USD</td>\n",
       "      <td>nightly</td>\n",
       "    </tr>\n",
       "  </tbody>\n",
       "</table>\n",
       "</div>"
      ],
      "text/plain": [
       "   Unnamed: 0  room_id  host_id        room_type                     address  \\\n",
       "0           0     2318     2536  Entire home/apt  Seattle, WA, United States   \n",
       "1           1     3335     4193  Entire home/apt  Seattle, WA, United States   \n",
       "2           2     4291    35749     Private room  Seattle, WA, United States   \n",
       "3           3     5682     8993  Entire home/apt  Seattle, WA, United States   \n",
       "4           4     6606    14942  Entire home/apt  Seattle, WA, United States   \n",
       "5           5     9419    30559     Private room  Seattle, WA, United States   \n",
       "6           6     9460    30832     Private room  Seattle, WA, United States   \n",
       "7           7     9531    31481  Entire home/apt  Seattle, WA, United States   \n",
       "8           8     9534    31481  Entire home/apt  Seattle, WA, United States   \n",
       "9           9     9596    14942  Entire home/apt  Seattle, WA, United States   \n",
       "\n",
       "   reviews  overall_satisfaction  accommodates  bedrooms  bathrooms  price  \\\n",
       "0       21                   5.0             8       4.0        2.5    250   \n",
       "1        1                   NaN             4       2.0        1.0    100   \n",
       "2       63                   4.5             2       1.0        1.0     82   \n",
       "3      462                   5.0             2       0.0        1.0     49   \n",
       "4      134                   4.5             2       1.0        1.0     90   \n",
       "5      130                   4.5             2       1.0        3.0     65   \n",
       "6      401                   5.0             2       1.0        1.0     78   \n",
       "7       35                   5.0             4       2.0        1.0    165   \n",
       "8       36                   5.0             3       2.0        1.0     95   \n",
       "9       76                   4.5             4       1.0        1.0    115   \n",
       "\n",
       "                last_modified   latitude   longitude  \\\n",
       "0  2018-12-20 03:46:14.698548  47.610819 -122.290816   \n",
       "1  2018-12-20 04:08:45.277643  47.529846 -122.275840   \n",
       "2  2018-12-20 03:04:19.861014  47.687801 -122.313427   \n",
       "3  2018-12-20 04:11:25.482975  47.523980 -122.359891   \n",
       "4  2018-12-20 03:12:38.391711  47.654109 -122.337605   \n",
       "5  2018-12-20 04:08:20.099202  47.550167 -122.319366   \n",
       "6  2018-12-20 03:45:03.853262  47.608010 -122.328739   \n",
       "7  2018-12-20 04:12:23.644451  47.555389 -122.384739   \n",
       "8  2018-12-20 04:11:31.085822  47.556236 -122.385981   \n",
       "9  2018-12-20 03:15:01.176545  47.654787 -122.336520   \n",
       "\n",
       "                                            location  \\\n",
       "0  0101000020E6100000D449B6BA9C925EC0416326512FCE...   \n",
       "1  0101000020E61000006FBBD05CA7915EC04DF564FED1C3...   \n",
       "2  0101000020E6100000BDAB1E300F945EC0FB93F8DC09D8...   \n",
       "3  0101000020E6100000FCC7427408975EC009E1D1C611C3...   \n",
       "4  0101000020E6100000D47D00529B955EC07782FDD7B9D3...   \n",
       "5  0101000020E6100000145D177E70945EC0522B4CDF6BC6...   \n",
       "6  0101000020E6100000DD7A4D0F0A955EC00BD28C45D3CD...   \n",
       "7  0101000020E6100000BA9F53909F985EC071C79BFC16C7...   \n",
       "8  0101000020E610000027F8A6E9B3985EC0CE6DC2BD32C7...   \n",
       "9  0101000020E6100000CB9C2E8B89955EC0486C770FD0D3...   \n",
       "\n",
       "                                                name currency rate_type  \n",
       "0  Casa Madrona - Urban Oasis, 1 block from the P...      USD   nightly  \n",
       "1                Sweet Seattle Urban Homestead 2 Bdr      USD   nightly  \n",
       "2                    Sunrise in Seattle Master Suite      USD   nightly  \n",
       "3                Cozy Studio, min. to downtown -WiFi      USD   nightly  \n",
       "4                Fab, private seattle urban cottage!      USD   nightly  \n",
       "5                Glorious sun room w/ memory foambed      USD   nightly  \n",
       "6                Downtown/Convention Ctr B&B - Nice!      USD   nightly  \n",
       "7                The Adorable Sweet Orange Craftsman      USD   nightly  \n",
       "8                  The Coolest Tangerine Dream MIL!       USD   nightly  \n",
       "9         the down home , spacious, central and fab!      USD   nightly  "
      ]
     },
     "execution_count": 12,
     "metadata": {},
     "output_type": "execute_result"
    }
   ],
   "source": [
    "import pandas as pd \n",
    "\n",
    "seattle = pd.read_csv(\"/Users/anabelen/Documents/MIDS/Spring 2019/Intro. to ML/seattle_01.csv\") \n",
    "seattle.head(10)\n"
   ]
  },
  {
   "cell_type": "code",
   "execution_count": 13,
   "metadata": {},
   "outputs": [
    {
     "data": {
      "text/plain": [
       "(7576, 18)"
      ]
     },
     "execution_count": 13,
     "metadata": {},
     "output_type": "execute_result"
    }
   ],
   "source": [
    "seattle.shape"
   ]
  },
  {
   "cell_type": "markdown",
   "metadata": {},
   "source": [
    "Let's check If there are missing values in the data"
   ]
  },
  {
   "cell_type": "code",
   "execution_count": 24,
   "metadata": {},
   "outputs": [
    {
     "name": "stdout",
     "output_type": "stream",
     "text": [
      "<class 'pandas.core.frame.DataFrame'>\n",
      "RangeIndex: 7576 entries, 0 to 7575\n",
      "Data columns (total 18 columns):\n",
      "Unnamed: 0              7576 non-null int64\n",
      "room_id                 7576 non-null int64\n",
      "host_id                 7576 non-null int64\n",
      "room_type               7576 non-null object\n",
      "address                 7576 non-null object\n",
      "reviews                 7576 non-null int64\n",
      "overall_satisfaction    6103 non-null float64\n",
      "accommodates            7576 non-null int64\n",
      "bedrooms                7576 non-null float64\n",
      "bathrooms               7574 non-null float64\n",
      "price                   7576 non-null int64\n",
      "last_modified           7576 non-null object\n",
      "latitude                7576 non-null float64\n",
      "longitude               7576 non-null float64\n",
      "location                7576 non-null object\n",
      "name                    7576 non-null object\n",
      "currency                7576 non-null object\n",
      "rate_type               7576 non-null object\n",
      "dtypes: float64(5), int64(6), object(7)\n",
      "memory usage: 1.0+ MB\n"
     ]
    }
   ],
   "source": [
    "seattle.info()"
   ]
  },
  {
   "cell_type": "markdown",
   "metadata": {},
   "source": [
    "There seems to be some missing values in \"overall_satisfaction\" and \"bathrooms\". The \"bathrooms\" variable has only one missing value, we can simply delete that row. The \"overall_satisfaction\" variable has 1,473. It could be the case that those listings are new on the platform and have not receive an overall satisfaction record yet. We can get rid of those observations in case we want to use that variable in the analysis."
   ]
  },
  {
   "cell_type": "markdown",
   "metadata": {},
   "source": [
    "Now, let's check if there are ourliers"
   ]
  },
  {
   "cell_type": "code",
   "execution_count": 36,
   "metadata": {},
   "outputs": [
    {
     "data": {
      "text/plain": [
       "<matplotlib.axes._subplots.AxesSubplot at 0x10a05cdd8>"
      ]
     },
     "execution_count": 36,
     "metadata": {},
     "output_type": "execute_result"
    },
    {
     "data": {
      "image/png": "[encoded data removed]",
      "text/plain": [
       "<matplotlib.figure.Figure at 0x1a15542080>"
      ]
     },
     "metadata": {},
     "output_type": "display_data"
    }
   ],
   "source": [
    "import matplotlib.pyplot as plt\n",
    "import seaborn as sns\n",
    "\n",
    "sns.boxplot(x=\"price\", data=seattle,\n",
    "            whis=\"range\", palette=\"vlag\")"
   ]
  },
  {
   "cell_type": "markdown",
   "metadata": {},
   "source": [
    "There seems to be outliers in the price, let's see the top 15 largest values to determine if they make sense or are erroneous values."
   ]
  },
  {
   "cell_type": "code",
   "execution_count": 48,
   "metadata": {},
   "outputs": [
    {
     "data": {
      "text/plain": [
       "71      5900\n",
       "3994    3000\n",
       "5691    2800\n",
       "4260    1650\n",
       "3069    1395\n",
       "3058    1200\n",
       "2225     999\n",
       "968      995\n",
       "2100     995\n",
       "7369     980\n",
       "651      960\n",
       "519      950\n",
       "3744     900\n",
       "6418     900\n",
       "5511     899\n",
       "Name: price, dtype: int64"
      ]
     },
     "execution_count": 48,
     "metadata": {},
     "output_type": "execute_result"
    }
   ],
   "source": [
    "seattle.nlargest(15, 'price')[\"price\"]"
   ]
  },
  {
   "cell_type": "markdown",
   "metadata": {},
   "source": [
    "There's a big jump on the prices specially after 999 usd. I'll get rid of the observations whose prices are higher than 1000 usd."
   ]
  },
  {
   "cell_type": "code",
   "execution_count": 57,
   "metadata": {},
   "outputs": [
    {
     "ename": "TypeError",
     "evalue": "'>' not supported between instances of 'str' and 'int'",
     "output_type": "error",
     "traceback": [
      "\u001b[0;31m---------------------------------------------------------------------------\u001b[0m",
      "\u001b[0;31mTypeError\u001b[0m                                 Traceback (most recent call last)",
      "\u001b[0;32m<ipython-input-57-e2c927ef47d3>\u001b[0m in \u001b[0;36m<module>\u001b[0;34m()\u001b[0m\n\u001b[0;32m----> 1\u001b[0;31m \u001b[0mseattle2\u001b[0m \u001b[0;34m=\u001b[0m \u001b[0mseattle\u001b[0m\u001b[0;34m.\u001b[0m\u001b[0mdrop\u001b[0m\u001b[0;34m(\u001b[0m\u001b[0;34m'price'\u001b[0m \u001b[0;34m>\u001b[0m \u001b[0;36m1000\u001b[0m\u001b[0;34m)\u001b[0m\u001b[0;34m\u001b[0m\u001b[0m\n\u001b[0m",
      "\u001b[0;31mTypeError\u001b[0m: '>' not supported between instances of 'str' and 'int'"
     ]
    }
   ],
   "source": [
    "seattle2 = seattle.drop('price' > 1000)"
   ]
  },
  {
   "cell_type": "code",
   "execution_count": 35,
   "metadata": {},
   "outputs": [
    {
     "data": {
      "image/png": "[encoded data removed]",
      "text/plain": [
       "<matplotlib.figure.Figure at 0x1a156b69b0>"
      ]
     },
     "metadata": {},
     "output_type": "display_data"
    }
   ],
   "source": [
    "sns.boxplot(x=\"bedrooms\", y=\"bathrooms\", data=seattle,\n",
    "            whis=\"range\", palette=\"vlag\")\n",
    "ax = sns.stripplot(x='bedrooms', y='bathrooms', data=seattle, color=\"black\", jitter=0.2, size=2.5)\n"
   ]
  },
  {
   "cell_type": "markdown",
   "metadata": {},
   "source": [
    "There are some outliers in listings with zero or one bedroom and 4 or more bathrooms. Those entries seems to be erroneous values and should be deleted from the dataset."
   ]
  },
  {
   "cell_type": "code",
   "execution_count": null,
   "metadata": {},
   "outputs": [],
   "source": []
  },
  {
   "cell_type": "markdown",
   "metadata": {},
   "source": [
    "### 4. EDA: Relationships and patterns"
   ]
  },
  {
   "cell_type": "markdown",
   "metadata": {},
   "source": [
    "### 5. \n",
    "\n",
    "Main insights:\n",
    "\n",
    "Why is interesting or important?"
   ]
  },
  {
   "cell_type": "code",
   "execution_count": null,
   "metadata": {},
   "outputs": [],
   "source": []
  }
 ],
 "metadata": {
  "kernelspec": {
   "display_name": "Python 3",
   "language": "python",
   "name": "python3"
  },
  "language_info": {
   "codemirror_mode": {
    "name": "ipython",
    "version": 3
   },
   "file_extension": ".py",
   "mimetype": "text/x-python",
   "name": "python",
   "nbconvert_exporter": "python",
   "pygments_lexer": "ipython3",
   "version": "3.6.4"
  }
 },
 "nbformat": 4,
 "nbformat_minor": 2
}
